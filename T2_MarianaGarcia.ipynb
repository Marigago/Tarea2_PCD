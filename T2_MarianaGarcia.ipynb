{
 "cells": [
  {
   "cell_type": "markdown",
   "id": "04167b2d",
   "metadata": {},
   "source": [
    "## 📌 **Summary on MLOps (Machine Learning Operations)**"
   ]
  },
  {
   "cell_type": "markdown",
   "id": "b6e07e82",
   "metadata": {},
   "source": [
    "### 🤖 **What is MLOps and why does it matter?**\n"
   ]
  },
  {
   "cell_type": "markdown",
   "id": "520712f1",
   "metadata": {},
   "source": [
    "MLOps stands for Machine Learning Operations and its goal is to streamline the process of moving ML models from development to production, while ensuring they stay reliable and effective.  \n",
    "It involves collaboration between data scientists, DevOps engineers, and IT teams.  \n",
    "The main value: speeding up deployments with CI/CD, monitoring, validation, and governance.  "
   ]
  },
  {
   "cell_type": "markdown",
   "id": "d13fa1b5",
   "metadata": {},
   "source": [
    "### ❓**Why do we need MLOps?**\n"
   ]
  },
  {
   "cell_type": "markdown",
   "id": "195c26ca",
   "metadata": {},
   "source": [
    "Putting a model into production is not easy.  \n",
    "The ML lifecycle includes: data ingestion, preparation, training, deployment, and monitoring.  \n",
    "Without structure, it becomes chaos. MLOps keeps everything in sync, enabling continuous experimentation and improvements without breaking workflows.  \n",
    "\n"
   ]
  },
  {
   "cell_type": "markdown",
   "id": "8d82f20d",
   "metadata": {},
   "source": [
    "### 🌟 **Main Benefits**"
   ]
  },
  {
   "cell_type": "markdown",
   "id": "0979f6f1",
   "metadata": {},
   "source": [
    "1. *Efficiency* → faster, more reliable model development.  \n",
    "2. *Scalability* → managing from a handful to thousands of models.  \n",
    "3. *Risk Reduction* → transparency, compliance, and monitoring (e.g., detecting model drift).  \n",
    "\n"
   ]
  },
  {
   "cell_type": "markdown",
   "id": "3afb3625",
   "metadata": {},
   "source": [
    "\n",
    "### 🔧 **Key Stages in an MLOps Workflow**"
   ]
  },
  {
   "cell_type": "markdown",
   "id": "1800180c",
   "metadata": {},
   "source": [
    "- *EDA (Exploratory Data Analysis)*: exploring and visualizing datasets.  \n",
    "- *Data Preparation & Feature Engineering*: cleaning, transforming, and creating features (ideally stored in a feature store).  \n",
    "- *Model Training and Tuning*: using tools like scikit-learn, hyperopt, or AutoML.  \n",
    "- *Model Review & Governance*: versioning and tracking models (e.g., MLflow).  \n",
    "- *Inference & Serving*: defining how predictions are consumed, automating pipelines with CI/CD.  \n",
    "- *Deployment & Monitoring*: serving models via REST endpoints, allocating resources, tracking performance.  \n",
    "- *Automated Retraining*: retraining models when drift or performance decay is detected.  \n"
   ]
  },
  {
   "cell_type": "markdown",
   "id": "14bc291d",
   "metadata": {},
   "source": [
    "### 🔄 **MLOps vs. DevOps**\n"
   ]
  },
  {
   "cell_type": "markdown",
   "id": "060526da",
   "metadata": {},
   "source": [
    "The philosophy is similar—fast, reliable deployments—but tailored to the specifics of ML: data, models, and experimentation.  \n",
    "Result: better quality, quicker time-to-market, and happier end users.  \n"
   ]
  },
  {
   "cell_type": "markdown",
   "id": "768b5138",
   "metadata": {},
   "source": [
    "### 🦾 **MLOps with Large Models (LLMs)**\n"
   ]
  },
  {
   "cell_type": "markdown",
   "id": "f87e35d0",
   "metadata": {},
   "source": [
    "\n",
    "- Require powerful hardware (GPUs).  \n",
    "- Fine-tuned rather than trained from scratch.  \n",
    "- Include human feedback (RLHF).  \n",
    "- Optimization also focuses on cost and resource efficiency.  \n",
    "- Performance metrics expand to include BLEU, ROUGE, etc.  \n"
   ]
  },
  {
   "cell_type": "markdown",
   "id": "3ff43e1b",
   "metadata": {},
   "source": [
    "\n",
    "### 🌍 **Real-World Use Cases of MLOps**\n"
   ]
  },
  {
   "cell_type": "markdown",
   "id": "d1f4289c",
   "metadata": {},
   "source": [
    "\n",
    "- *Banking & Finance* → fraud detection systems must be continuously retrained to catch evolving fraud patterns.  \n",
    "- *E-commerce* → recommendation engines are deployed at scale and monitored daily to adapt to changing consumer trends.  \n",
    "- *Healthcare* → predictive models (e.g., patient readmission risk) require constant monitoring to ensure accuracy and compliance.  \n",
    "- *Autonomous Vehicles* → real-time ML models in self-driving systems must be updated frequently as new driving scenarios appear.  \n",
    "\n",
    "---\n"
   ]
  },
  {
   "cell_type": "markdown",
   "id": "1e6c2696",
   "metadata": {},
   "source": [
    "\n",
    "*Conclusion*: MLOps is the backbone for making ML projects sustainable, scalable, and impactful. It ensures that models don’t just stay in notebooks but reach production and keep delivering value over time."
   ]
  },
  {
   "cell_type": "markdown",
   "id": "f3a84007",
   "metadata": {},
   "source": [
    "##  🔎 **Referencia**\n",
    "\n",
    "- [MLOps Definition and Benefits | Databricks](https://www.databricks.com/glossary/mlops)"
   ]
  }
 ],
 "metadata": {
  "language_info": {
   "name": "python"
  }
 },
 "nbformat": 4,
 "nbformat_minor": 5
}
